{
 "cells": [
  {
   "cell_type": "code",
   "execution_count": 1,
   "metadata": {},
   "outputs": [
    {
     "data": {
      "text/html": [
       "<style>.container { width:100% !important; }</style>"
      ],
      "text/plain": [
       "<IPython.core.display.HTML object>"
      ]
     },
     "metadata": {},
     "output_type": "display_data"
    }
   ],
   "source": [
    "from IPython.core.display import display, HTML\n",
    "display(HTML(\"<style>.container { width:100% !important; }</style>\"))"
   ]
  },
  {
   "cell_type": "code",
   "execution_count": 2,
   "metadata": {},
   "outputs": [
    {
     "name": "stderr",
     "output_type": "stream",
     "text": [
      "/home/ubuntu/anaconda3/envs/tensorflow_p36/lib/python3.6/site-packages/h5py/__init__.py:36: FutureWarning: Conversion of the second argument of issubdtype from `float` to `np.floating` is deprecated. In future, it will be treated as `np.float64 == np.dtype(float).type`.\n",
      "  from ._conv import register_converters as _register_converters\n",
      "/home/ubuntu/anaconda3/envs/tensorflow_p36/lib/python3.6/site-packages/matplotlib/__init__.py:962: UserWarning: Duplicate key in file \"/home/ubuntu/.config/matplotlib/matplotlibrc\", line #2\n",
      "  (fname, cnt))\n",
      "/home/ubuntu/anaconda3/envs/tensorflow_p36/lib/python3.6/site-packages/matplotlib/__init__.py:962: UserWarning: Duplicate key in file \"/home/ubuntu/.config/matplotlib/matplotlibrc\", line #3\n",
      "  (fname, cnt))\n"
     ]
    }
   ],
   "source": [
    "import tensorflow as tf\n",
    "import numpy as np\n",
    "import time\n",
    "import matplotlib.pyplot as plt\n",
    "from __future__ import division, print_function, absolute_import\n",
    "from util_functions import process_files, random_mini_batches\n",
    "\n",
    "# load the data and reshape to fit out model\n",
    "x_train, y_train, f_train = process_files(\n",
    "                                    dataset='training', \n",
    "                                    features=['Mel', 'Mel_deltas'], \n",
    "                                    shape='flat')\n",
    "\n",
    "x_test, y_test, f_test = process_files(\n",
    "                                    dataset='test', \n",
    "                                    features=['Mel', 'Mel_deltas'], \n",
    "                                    shape='flat')\n",
    "\n",
    "x_train = x_train.astype(np.float32)\n",
    "x_test = x_test.astype(np.float32)"
   ]
  },
  {
   "cell_type": "code",
   "execution_count": 3,
   "metadata": {},
   "outputs": [],
   "source": [
    "#Seeding\n",
    "seed = 3\n",
    "\n",
    "# input image dimensions\n",
    "input_d = x_train.shape[1] #Depth\n",
    "input_h = x_train.shape[2] #Height\n",
    "input_w = x_train.shape[3] #Width\n",
    "\n",
    "num_classes = 2\n",
    "\n",
    "#Reshape data to fit the model\n",
    "x_train = x_train.reshape(x_train.shape[0], input_h, input_w, input_d)\n",
    "x_test = x_test.reshape(x_test.shape[0], input_h, input_w, input_d)\n",
    "\n",
    "\n",
    "\n",
    "#Placeholders for additional network parameters\n",
    "X = tf.placeholder(tf.float32, [None, input_h, input_w, input_d])\n",
    "Y = tf.placeholder(tf.float32, [None, num_classes])\n",
    "keep_prob = tf.placeholder(tf.float32)\n",
    "learning_rate = tf.placeholder(tf.float32)"
   ]
  },
  {
   "cell_type": "code",
   "execution_count": 4,
   "metadata": {},
   "outputs": [],
   "source": [
    "# Model\n",
    "def sound_net(x, weights, biases, dropout):\n",
    "    # Input Layer\n",
    "    x = tf.reshape(x, shape=[-1, input_h, input_w, input_d])\n",
    "\n",
    "    # Convolutional Layer #1\n",
    "    #input shape [batch, input_h, input_w, input_d]\n",
    "    #output shape [batch, input_h, input_w, 80]   \n",
    "    conv1 = tf.nn.conv2d(x, weights['wc1'], padding=\"SAME\", strides=[1,1,1,1])\n",
    "    conv1 = tf.nn.bias_add(conv1, biases['bc1'])\n",
    "    conv1 = tf.nn.relu(conv1)\n",
    "\n",
    "    # Pooling Layer #1\n",
    "    # Input Tensor Shape: [batch_size, input_h, input_w, 80]\n",
    "    # Output Tensor Shape: [batch_size, input_h/2, input_w/2, 80]\n",
    "    pool1 = tf.nn.max_pool(conv1, ksize=[1, 2, 2, 1], strides=[1, 2, 2, 1], padding='SAME')    \n",
    "    pool1 = tf.nn.dropout(pool1,dropout)\n",
    "    \n",
    "    # Convolutional Layer #2\n",
    "    #input shape [batch_size, input_h/2, input_w/2, 80]\n",
    "    #output shape [batch_size, input_h/2, input_w/2, 80]\n",
    "    conv2 = tf.nn.conv2d(pool1, weights['wc2'], padding=\"SAME\", strides=[1,1,1,1])\n",
    "    conv2 = tf.nn.bias_add(conv2, biases['bc2'])\n",
    "    conv2 = tf.nn.relu(conv2)\n",
    "    \n",
    "    # Pooling Layer #2\n",
    "    # Input Tensor Shape: [batch_size, input_h/2, input_w/2, 80]\n",
    "    # Output Tensor Shape: [batch_size, input_h/16 input_w/14, 80]\n",
    "    pool2 = tf.nn.max_pool(conv2, ksize=[1, 8, 7, 1], strides=[1, 8, 7, 1], padding='SAME')    \n",
    "\n",
    "    # Fully connected layer\n",
    "    # Reshape conv2 output to fit fully connected layer input\n",
    "    dense1 = tf.reshape(pool2, [-1, weights['wd1'].get_shape().as_list()[0]])\n",
    "    dense1 = tf.add(tf.matmul(dense1, weights['wd1']), biases['bd1'])\n",
    "    dense1 = tf.nn.relu(dense1)\n",
    "    # Apply Dropout\n",
    "    dense1 = tf.nn.dropout(dense1,dropout)\n",
    "   \n",
    "    # Fully connected layer\n",
    "    # Reshape conv2 output to fit fully connected layer input\n",
    "    dense2 = tf.reshape(dense1, [-1, weights['wd2'].get_shape().as_list()[0]])\n",
    "    dense2 = tf.add(tf.matmul(dense2, weights['wd2']), biases['bd2'])\n",
    "    dense2 = tf.nn.relu(dense2)\n",
    "    # Apply Dropout\n",
    "    dense2=tf.nn.dropout(dense2,dropout)\n",
    "   \n",
    "    # Output, class prediction\n",
    "    out = tf.add(tf.matmul(dense2, weights['out']), biases['out'])\n",
    "    return out"
   ]
  },
  {
   "cell_type": "code",
   "execution_count": 5,
   "metadata": {},
   "outputs": [],
   "source": [
    "# Store weights and biases\n",
    "weights = {\n",
    "    # 57x6 conv\n",
    "    'wc1': tf.Variable(tf.random_normal([57, 6, 1, 80])),\n",
    "    # 1x3 conv\n",
    "    'wc2': tf.Variable(tf.random_normal([1, 3, 80, 80])),\n",
    "    # fully connected, (input_h/16)*(input_w/14)*80 inputs (after maxpool), 1024 outputs\n",
    "    # if our input is (128, 28) this will be 8*2*80\n",
    "    'wd1': tf.Variable(tf.random_normal([int(input_h/16)*int(input_w/14)*80, 1024])),\n",
    "    # fully connected, 1014 inputs (after maxpool), 1024 outputs\n",
    "    'wd2': tf.Variable(tf.random_normal([1024, 1024])),\n",
    "    # 1024 inputs, 2 outputs\n",
    "    'out': tf.Variable(tf.random_normal([1024, num_classes]))\n",
    "}\n",
    "\n",
    "biases = {\n",
    "    'bc1': tf.Variable(tf.random_normal([80])),\n",
    "    'bc2': tf.Variable(tf.random_normal([80])),\n",
    "    'bd1': tf.Variable(tf.random_normal([1024])),\n",
    "    'bd2': tf.Variable(tf.random_normal([1024])),\n",
    "    'out': tf.Variable(tf.random_normal([num_classes]))\n",
    "}\n",
    "\n",
    "# build model\n",
    "logits = sound_net(X, weights, biases, keep_prob)\n",
    "prediction = tf.nn.softmax(logits)\n",
    "\n",
    "# Define loss and optimizer\n",
    "loss_op = tf.reduce_mean(tf.nn.softmax_cross_entropy_with_logits_v2(logits=logits, labels=Y))\n",
    "optimizer = tf.train.AdamOptimizer(learning_rate=learning_rate)\n",
    "train_op = optimizer.minimize(loss_op)\n",
    "\n",
    "# Evaluate model\n",
    "correct_pred = tf.equal(tf.argmax(prediction, 1), tf.argmax(Y, 1))\n",
    "accuracy = tf.reduce_mean(tf.cast(correct_pred, tf.float32))\n",
    "\n",
    "# Initialize\n",
    "init = tf.global_variables_initializer()"
   ]
  },
  {
   "cell_type": "code",
   "execution_count": 8,
   "metadata": {},
   "outputs": [],
   "source": [
    "def run_model(num_epochs, x_train, y_train, x_test, y_test, minibatch_size, seed, learn_rate, dropout):\n",
    "    costs, accuracies = [],[]\n",
    "    \n",
    "    with tf.Session() as sess:\n",
    "                    \n",
    "        sess.run(init)        \n",
    "        #Print some info about the model executed.\n",
    "        print('Training of the network with:')\n",
    "        print('learning rate: ' + str(learn_rate) + ', dropout: ' + str(dropout) + '\\n')                \n",
    "        for epoch in range(num_epochs):\n",
    "            \n",
    "            epoch_cost = 0.\n",
    "            epoch_accuracies = []\n",
    "            seed = seed + 1\n",
    "            epoch_start_time = time.time()\n",
    "            minibatches = random_mini_batches(x_train, y_train, minibatch_size, seed)\n",
    "\n",
    "            for minibatch in minibatches:\n",
    "                (batch_x, batch_y) = minibatch\n",
    "                #convert to one_hot for labels\n",
    "                batch_y = tf.one_hot(batch_y, num_classes)\n",
    "                batch_y = sess.run(batch_y)\n",
    "                batch_y = batch_y.reshape((batch_y.shape[0], num_classes))\n",
    "\n",
    "                sess.run(train_op, feed_dict={X: batch_x, \n",
    "                                              Y: batch_y, \n",
    "                                              keep_prob: (1 - dropout), \n",
    "                                              learning_rate: learn_rate})\n",
    "                loss, acc = sess.run([loss_op, accuracy], feed_dict={X: batch_x,\n",
    "                                                                     Y: batch_y,\n",
    "                                                                     keep_prob: (1 - dropout),\n",
    "                                                                     learning_rate: learn_rate})\n",
    "                epoch_cost += loss\n",
    "                epoch_accuracies.append(acc)\n",
    "            \n",
    "            epoch_end_time = time.time()\n",
    "            per_epoch_ptime = epoch_end_time - epoch_start_time\n",
    "            \n",
    "            #After running all minibatches    \n",
    "            epoch_accuracy = np.mean(epoch_accuracies)            \n",
    "            if epoch % 10 == 0:\n",
    "                print(\"Epoch \" + str(epoch) + \", Loss= \" + \\\n",
    "                      \"{:.4f}\".format(loss) + \", Accuracy= \" + \\\n",
    "                      \"{:.3f}\".format(epoch_accuracy))\n",
    "                print(per_epoch_ptime)\n",
    "            if epoch % 5 == 0:\n",
    "                costs.append(epoch_cost)\n",
    "                accuracies.append(epoch_accuracy)\n",
    "\n",
    "        #Plot loss over time\n",
    "        plt.plot(np.squeeze(costs))\n",
    "        plt.ylabel('cost')\n",
    "        plt.xlabel('iterations (per tens)')\n",
    "        plt.title('learning rate: ' + str(learn_rate) + ', dropout: ' + str(dropout))\n",
    "        plt.show()   \n",
    "\n",
    "        #Plot accuracy over time\n",
    "        plt.plot(np.squeeze(accuracies))\n",
    "        plt.ylabel('accuracy (%)')\n",
    "        plt.xlabel('iterations (per tens)')\n",
    "        plt.title('learning rate: ' + str(learn_rate) + ', dropout: ' + str(dropout))\n",
    "        plt.show()           \n",
    "\n",
    "        # Test accuracy\n",
    "        test_labels = tf.one_hot(test_labels, num_classes)\n",
    "        test_labels = sess.run(test_labels)     \n",
    "        \n",
    "        print(\"Test Accuracy:\", \\\n",
    "            sess.run(accuracy, feed_dict={X: x_test,\n",
    "                                          Y: y_test,\n",
    "                                          keep_prob: 1.0}))"
   ]
  },
  {
   "cell_type": "code",
   "execution_count": 9,
   "metadata": {
    "scrolled": false
   },
   "outputs": [
    {
     "name": "stdout",
     "output_type": "stream",
     "text": [
      "Training of the network with:\n",
      "learning rate: 0.0001, dropout: 0.4\n",
      "\n",
      "Epoch 0, Loss= 101125312.0000, Accuracy= 0.500\n",
      "10.34920048713684\n",
      "Epoch 10, Loss= 45110560.0000, Accuracy= 0.661\n",
      "13.715684652328491\n",
      "Epoch 20, Loss= 64402932.0000, Accuracy= 0.721\n",
      "15.48277473449707\n",
      "Epoch 30, Loss= 72397240.0000, Accuracy= 0.724\n",
      "18.081406831741333\n",
      "Epoch 40, Loss= 13867239.0000, Accuracy= 0.747\n",
      "20.897857427597046\n",
      "Epoch 50, Loss= 225468816.0000, Accuracy= 0.775\n",
      "24.921652793884277\n",
      "Epoch 60, Loss= 72104968.0000, Accuracy= 0.785\n",
      "27.648327589035034\n",
      "Epoch 70, Loss= 257120704.0000, Accuracy= 0.777\n",
      "32.93459868431091\n",
      "Epoch 80, Loss= 301258592.0000, Accuracy= 0.774\n",
      "35.49617648124695\n"
     ]
    },
    {
     "ename": "KeyboardInterrupt",
     "evalue": "",
     "output_type": "error",
     "traceback": [
      "\u001b[0;31m---------------------------------------------------------------------------\u001b[0m",
      "\u001b[0;31mKeyboardInterrupt\u001b[0m                         Traceback (most recent call last)",
      "\u001b[0;32m<ipython-input-9-9ac98b52c55b>\u001b[0m in \u001b[0;36m<module>\u001b[0;34m()\u001b[0m\n\u001b[1;32m      1\u001b[0m run_model(num_epochs=100, x_train=x_train, y_train=y_train, x_test=x_test, \n\u001b[0;32m----> 2\u001b[0;31m           y_test=y_test, minibatch_size=32, learn_rate=0.0001, seed=seed, dropout=0.4)\n\u001b[0m",
      "\u001b[0;32m<ipython-input-8-07eb957afe71>\u001b[0m in \u001b[0;36mrun_model\u001b[0;34m(num_epochs, x_train, y_train, x_test, y_test, minibatch_size, seed, learn_rate, dropout)\u001b[0m\n\u001b[1;32m     20\u001b[0m                 \u001b[0;31m#convert to one_hot for labels\u001b[0m\u001b[0;34m\u001b[0m\u001b[0;34m\u001b[0m\u001b[0m\n\u001b[1;32m     21\u001b[0m                 \u001b[0mbatch_y\u001b[0m \u001b[0;34m=\u001b[0m \u001b[0mtf\u001b[0m\u001b[0;34m.\u001b[0m\u001b[0mone_hot\u001b[0m\u001b[0;34m(\u001b[0m\u001b[0mbatch_y\u001b[0m\u001b[0;34m,\u001b[0m \u001b[0mnum_classes\u001b[0m\u001b[0;34m)\u001b[0m\u001b[0;34m\u001b[0m\u001b[0m\n\u001b[0;32m---> 22\u001b[0;31m                 \u001b[0mbatch_y\u001b[0m \u001b[0;34m=\u001b[0m \u001b[0msess\u001b[0m\u001b[0;34m.\u001b[0m\u001b[0mrun\u001b[0m\u001b[0;34m(\u001b[0m\u001b[0mbatch_y\u001b[0m\u001b[0;34m)\u001b[0m\u001b[0;34m\u001b[0m\u001b[0m\n\u001b[0m\u001b[1;32m     23\u001b[0m                 \u001b[0mbatch_y\u001b[0m \u001b[0;34m=\u001b[0m \u001b[0mbatch_y\u001b[0m\u001b[0;34m.\u001b[0m\u001b[0mreshape\u001b[0m\u001b[0;34m(\u001b[0m\u001b[0;34m(\u001b[0m\u001b[0mbatch_y\u001b[0m\u001b[0;34m.\u001b[0m\u001b[0mshape\u001b[0m\u001b[0;34m[\u001b[0m\u001b[0;36m0\u001b[0m\u001b[0;34m]\u001b[0m\u001b[0;34m,\u001b[0m \u001b[0mnum_classes\u001b[0m\u001b[0;34m)\u001b[0m\u001b[0;34m)\u001b[0m\u001b[0;34m\u001b[0m\u001b[0m\n\u001b[1;32m     24\u001b[0m \u001b[0;34m\u001b[0m\u001b[0m\n",
      "\u001b[0;32m~/anaconda3/envs/tensorflow_p36/lib/python3.6/site-packages/tensorflow/python/client/session.py\u001b[0m in \u001b[0;36mrun\u001b[0;34m(self, fetches, feed_dict, options, run_metadata)\u001b[0m\n\u001b[1;32m    893\u001b[0m     \u001b[0;32mtry\u001b[0m\u001b[0;34m:\u001b[0m\u001b[0;34m\u001b[0m\u001b[0m\n\u001b[1;32m    894\u001b[0m       result = self._run(None, fetches, feed_dict, options_ptr,\n\u001b[0;32m--> 895\u001b[0;31m                          run_metadata_ptr)\n\u001b[0m\u001b[1;32m    896\u001b[0m       \u001b[0;32mif\u001b[0m \u001b[0mrun_metadata\u001b[0m\u001b[0;34m:\u001b[0m\u001b[0;34m\u001b[0m\u001b[0m\n\u001b[1;32m    897\u001b[0m         \u001b[0mproto_data\u001b[0m \u001b[0;34m=\u001b[0m \u001b[0mtf_session\u001b[0m\u001b[0;34m.\u001b[0m\u001b[0mTF_GetBuffer\u001b[0m\u001b[0;34m(\u001b[0m\u001b[0mrun_metadata_ptr\u001b[0m\u001b[0;34m)\u001b[0m\u001b[0;34m\u001b[0m\u001b[0m\n",
      "\u001b[0;32m~/anaconda3/envs/tensorflow_p36/lib/python3.6/site-packages/tensorflow/python/client/session.py\u001b[0m in \u001b[0;36m_run\u001b[0;34m(self, handle, fetches, feed_dict, options, run_metadata)\u001b[0m\n\u001b[1;32m   1126\u001b[0m     \u001b[0;32mif\u001b[0m \u001b[0mfinal_fetches\u001b[0m \u001b[0;32mor\u001b[0m \u001b[0mfinal_targets\u001b[0m \u001b[0;32mor\u001b[0m \u001b[0;34m(\u001b[0m\u001b[0mhandle\u001b[0m \u001b[0;32mand\u001b[0m \u001b[0mfeed_dict_tensor\u001b[0m\u001b[0;34m)\u001b[0m\u001b[0;34m:\u001b[0m\u001b[0;34m\u001b[0m\u001b[0m\n\u001b[1;32m   1127\u001b[0m       results = self._do_run(handle, final_targets, final_fetches,\n\u001b[0;32m-> 1128\u001b[0;31m                              feed_dict_tensor, options, run_metadata)\n\u001b[0m\u001b[1;32m   1129\u001b[0m     \u001b[0;32melse\u001b[0m\u001b[0;34m:\u001b[0m\u001b[0;34m\u001b[0m\u001b[0m\n\u001b[1;32m   1130\u001b[0m       \u001b[0mresults\u001b[0m \u001b[0;34m=\u001b[0m \u001b[0;34m[\u001b[0m\u001b[0;34m]\u001b[0m\u001b[0;34m\u001b[0m\u001b[0m\n",
      "\u001b[0;32m~/anaconda3/envs/tensorflow_p36/lib/python3.6/site-packages/tensorflow/python/client/session.py\u001b[0m in \u001b[0;36m_do_run\u001b[0;34m(self, handle, target_list, fetch_list, feed_dict, options, run_metadata)\u001b[0m\n\u001b[1;32m   1342\u001b[0m     \u001b[0;32mif\u001b[0m \u001b[0mhandle\u001b[0m \u001b[0;32mis\u001b[0m \u001b[0;32mNone\u001b[0m\u001b[0;34m:\u001b[0m\u001b[0;34m\u001b[0m\u001b[0m\n\u001b[1;32m   1343\u001b[0m       return self._do_call(_run_fn, self._session, feeds, fetches, targets,\n\u001b[0;32m-> 1344\u001b[0;31m                            options, run_metadata)\n\u001b[0m\u001b[1;32m   1345\u001b[0m     \u001b[0;32melse\u001b[0m\u001b[0;34m:\u001b[0m\u001b[0;34m\u001b[0m\u001b[0m\n\u001b[1;32m   1346\u001b[0m       \u001b[0;32mreturn\u001b[0m \u001b[0mself\u001b[0m\u001b[0;34m.\u001b[0m\u001b[0m_do_call\u001b[0m\u001b[0;34m(\u001b[0m\u001b[0m_prun_fn\u001b[0m\u001b[0;34m,\u001b[0m \u001b[0mself\u001b[0m\u001b[0;34m.\u001b[0m\u001b[0m_session\u001b[0m\u001b[0;34m,\u001b[0m \u001b[0mhandle\u001b[0m\u001b[0;34m,\u001b[0m \u001b[0mfeeds\u001b[0m\u001b[0;34m,\u001b[0m \u001b[0mfetches\u001b[0m\u001b[0;34m)\u001b[0m\u001b[0;34m\u001b[0m\u001b[0m\n",
      "\u001b[0;32m~/anaconda3/envs/tensorflow_p36/lib/python3.6/site-packages/tensorflow/python/client/session.py\u001b[0m in \u001b[0;36m_do_call\u001b[0;34m(self, fn, *args)\u001b[0m\n\u001b[1;32m   1348\u001b[0m   \u001b[0;32mdef\u001b[0m \u001b[0m_do_call\u001b[0m\u001b[0;34m(\u001b[0m\u001b[0mself\u001b[0m\u001b[0;34m,\u001b[0m \u001b[0mfn\u001b[0m\u001b[0;34m,\u001b[0m \u001b[0;34m*\u001b[0m\u001b[0margs\u001b[0m\u001b[0;34m)\u001b[0m\u001b[0;34m:\u001b[0m\u001b[0;34m\u001b[0m\u001b[0m\n\u001b[1;32m   1349\u001b[0m     \u001b[0;32mtry\u001b[0m\u001b[0;34m:\u001b[0m\u001b[0;34m\u001b[0m\u001b[0m\n\u001b[0;32m-> 1350\u001b[0;31m       \u001b[0;32mreturn\u001b[0m \u001b[0mfn\u001b[0m\u001b[0;34m(\u001b[0m\u001b[0;34m*\u001b[0m\u001b[0margs\u001b[0m\u001b[0;34m)\u001b[0m\u001b[0;34m\u001b[0m\u001b[0m\n\u001b[0m\u001b[1;32m   1351\u001b[0m     \u001b[0;32mexcept\u001b[0m \u001b[0merrors\u001b[0m\u001b[0;34m.\u001b[0m\u001b[0mOpError\u001b[0m \u001b[0;32mas\u001b[0m \u001b[0me\u001b[0m\u001b[0;34m:\u001b[0m\u001b[0;34m\u001b[0m\u001b[0m\n\u001b[1;32m   1352\u001b[0m       \u001b[0mmessage\u001b[0m \u001b[0;34m=\u001b[0m \u001b[0mcompat\u001b[0m\u001b[0;34m.\u001b[0m\u001b[0mas_text\u001b[0m\u001b[0;34m(\u001b[0m\u001b[0me\u001b[0m\u001b[0;34m.\u001b[0m\u001b[0mmessage\u001b[0m\u001b[0;34m)\u001b[0m\u001b[0;34m\u001b[0m\u001b[0m\n",
      "\u001b[0;32m~/anaconda3/envs/tensorflow_p36/lib/python3.6/site-packages/tensorflow/python/client/session.py\u001b[0m in \u001b[0;36m_run_fn\u001b[0;34m(session, feed_dict, fetch_list, target_list, options, run_metadata)\u001b[0m\n\u001b[1;32m   1318\u001b[0m                 run_metadata):\n\u001b[1;32m   1319\u001b[0m       \u001b[0;31m# Ensure any changes to the graph are reflected in the runtime.\u001b[0m\u001b[0;34m\u001b[0m\u001b[0;34m\u001b[0m\u001b[0m\n\u001b[0;32m-> 1320\u001b[0;31m       \u001b[0mself\u001b[0m\u001b[0;34m.\u001b[0m\u001b[0m_extend_graph\u001b[0m\u001b[0;34m(\u001b[0m\u001b[0;34m)\u001b[0m\u001b[0;34m\u001b[0m\u001b[0m\n\u001b[0m\u001b[1;32m   1321\u001b[0m       \u001b[0;32mwith\u001b[0m \u001b[0merrors\u001b[0m\u001b[0;34m.\u001b[0m\u001b[0mraise_exception_on_not_ok_status\u001b[0m\u001b[0;34m(\u001b[0m\u001b[0;34m)\u001b[0m \u001b[0;32mas\u001b[0m \u001b[0mstatus\u001b[0m\u001b[0;34m:\u001b[0m\u001b[0;34m\u001b[0m\u001b[0m\n\u001b[1;32m   1322\u001b[0m         \u001b[0;32mif\u001b[0m \u001b[0mself\u001b[0m\u001b[0;34m.\u001b[0m\u001b[0m_created_with_new_api\u001b[0m\u001b[0;34m:\u001b[0m\u001b[0;34m\u001b[0m\u001b[0m\n",
      "\u001b[0;32m~/anaconda3/envs/tensorflow_p36/lib/python3.6/site-packages/tensorflow/python/client/session.py\u001b[0m in \u001b[0;36m_extend_graph\u001b[0;34m(self)\u001b[0m\n\u001b[1;32m   1379\u001b[0m         \u001b[0;32mwith\u001b[0m \u001b[0merrors\u001b[0m\u001b[0;34m.\u001b[0m\u001b[0mraise_exception_on_not_ok_status\u001b[0m\u001b[0;34m(\u001b[0m\u001b[0;34m)\u001b[0m \u001b[0;32mas\u001b[0m \u001b[0mstatus\u001b[0m\u001b[0;34m:\u001b[0m\u001b[0;34m\u001b[0m\u001b[0m\n\u001b[1;32m   1380\u001b[0m           tf_session.TF_ExtendGraph(\n\u001b[0;32m-> 1381\u001b[0;31m               self._session, graph_def.SerializeToString(), status)\n\u001b[0m\u001b[1;32m   1382\u001b[0m         \u001b[0mself\u001b[0m\u001b[0;34m.\u001b[0m\u001b[0m_opened\u001b[0m \u001b[0;34m=\u001b[0m \u001b[0;32mTrue\u001b[0m\u001b[0;34m\u001b[0m\u001b[0m\n\u001b[1;32m   1383\u001b[0m \u001b[0;34m\u001b[0m\u001b[0m\n",
      "\u001b[0;31mKeyboardInterrupt\u001b[0m: "
     ]
    }
   ],
   "source": [
    "run_model(num_epochs=100, x_train=x_train, y_train=y_train, x_test=x_test, \n",
    "          y_test=y_test, minibatch_size=32, learn_rate=0.0001, seed=seed, dropout=0.4)"
   ]
  },
  {
   "cell_type": "code",
   "execution_count": 8,
   "metadata": {},
   "outputs": [],
   "source": [
    "tf.reset_default_graph()"
   ]
  }
 ],
 "metadata": {
  "kernelspec": {
   "display_name": "Python [conda env:tensorflow_p36]",
   "language": "python",
   "name": "conda-env-tensorflow_p36-py"
  },
  "language_info": {
   "codemirror_mode": {
    "name": "ipython",
    "version": 3
   },
   "file_extension": ".py",
   "mimetype": "text/x-python",
   "name": "python",
   "nbconvert_exporter": "python",
   "pygments_lexer": "ipython3",
   "version": "3.6.4"
  }
 },
 "nbformat": 4,
 "nbformat_minor": 2
}
