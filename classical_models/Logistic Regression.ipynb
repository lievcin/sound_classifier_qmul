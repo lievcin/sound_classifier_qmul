{
 "cells": [
  {
   "cell_type": "code",
   "execution_count": 1,
   "metadata": {
    "scrolled": false
   },
   "outputs": [],
   "source": [
    "import numpy as np\n",
    "import pandas as pd\n",
    "\n",
    "from sklearn.linear_model import LogisticRegression\n",
    "from sklearn.metrics import classification_report\n",
    "from sklearn.metrics import confusion_matrix\n",
    "\n",
    "from util_functions import process_files_to_mfccs"
   ]
  },
  {
   "cell_type": "code",
   "execution_count": 2,
   "metadata": {},
   "outputs": [],
   "source": [
    "# Load data\n",
    "df_train = process_files_to_mfccs(dataset='training')\n",
    "df_test = process_files_to_mfccs(dataset='test')"
   ]
  },
  {
   "cell_type": "code",
   "execution_count": 3,
   "metadata": {},
   "outputs": [],
   "source": [
    "def log_reg(df_train,df_test):\n",
    "    \n",
    "    logreg = LogisticRegression()\n",
    "    \n",
    "    X_train=df_train.iloc[:,0:df_train.shape[1]-1]\n",
    "    X_test = df_test.iloc[:,0:df_train.shape[1]-1]\n",
    "    y_train=df_train['Label']\n",
    "    \n",
    "    logreg.fit(X_train, y_train)\n",
    "    y_pred_train = logreg.predict(X_train)\n",
    "    y_pred_test = logreg.predict(X_test)\n",
    "\n",
    "    pred_train_series = pd.Series(y_pred_train,index = df_train.index)\n",
    "    pred_group_train_series = pred_train_series.groupby(pred_train_series.index).mean()\n",
    "    pred_train_boolean = pred_group_train_series >=0.5\n",
    "    y_pred_train_last= pred_train_boolean*1\n",
    "\n",
    "    pred_test_series = pd.Series(y_pred_test,index = df_test.index)\n",
    "    pred_group_test_series = pred_test_series.groupby(pred_test_series.index).mean()\n",
    "    pred_test_boolean = pred_group_test_series >=0.5\n",
    "    y_pred_test_last= pred_test_boolean*1\n",
    "\n",
    "    y_train = df_train['Label']\n",
    "    y_train_last = y_train.groupby(y_train.index).mean()\n",
    "\n",
    "    y_test = df_test['Label']\n",
    "    y_test_last = y_test.groupby(y_test.index).mean()\n",
    "    \n",
    "    return y_train_last,y_pred_train_last,y_test_last,y_pred_test_last"
   ]
  },
  {
   "cell_type": "code",
   "execution_count": 4,
   "metadata": {},
   "outputs": [],
   "source": [
    "def calculate_accuracies(y_true, y_pred):\n",
    "    return np.sum(np.array([y_true==y_pred]))/len(y_true)"
   ]
  },
  {
   "cell_type": "code",
   "execution_count": 5,
   "metadata": {},
   "outputs": [],
   "source": [
    "def class_report(y_true, y_pred, accuracy, dataset):    \n",
    "    print(dataset + ' Set:\\n')\n",
    "    print(dataset + ' Confusion Matrix:')\n",
    "    print(confusion_matrix(y_true, y_pred))    \n",
    "    print(dataset + ' Classification report:')\n",
    "    print(classification_report(y_true, y_pred))    \n",
    "    print(dataset + ' Accuracy: ' + str(accuracy))    \n",
    "    print('\\n')"
   ]
  },
  {
   "cell_type": "code",
   "execution_count": 6,
   "metadata": {
    "scrolled": false
   },
   "outputs": [
    {
     "name": "stdout",
     "output_type": "stream",
     "text": [
      "Training Set:\n",
      "\n",
      "Training Confusion Matrix:\n",
      "[[111   4]\n",
      " [ 17  63]]\n",
      "Training Classification report:\n",
      "             precision    recall  f1-score   support\n",
      "\n",
      "          0       0.87      0.97      0.91       115\n",
      "          1       0.94      0.79      0.86        80\n",
      "\n",
      "avg / total       0.90      0.89      0.89       195\n",
      "\n",
      "Training Accuracy: 0.892307692308\n",
      "\n",
      "\n",
      "Test Set:\n",
      "\n",
      "Test Confusion Matrix:\n",
      "[[45  4]\n",
      " [10 23]]\n",
      "Test Classification report:\n",
      "             precision    recall  f1-score   support\n",
      "\n",
      "          0       0.82      0.92      0.87        49\n",
      "          1       0.85      0.70      0.77        33\n",
      "\n",
      "avg / total       0.83      0.83      0.83        82\n",
      "\n",
      "Test Accuracy: 0.829268292683\n",
      "\n",
      "\n"
     ]
    }
   ],
   "source": [
    "#Classification with Logistic regression\n",
    "y_train, y_pred_train, y_test, y_pred_test = log_reg(df_train, df_test)\n",
    "\n",
    "#Calculate training and test accuracy for the model\n",
    "train_acc = calculate_accuracies(y_true=y_train, y_pred=y_pred_train)\n",
    "test_acc = calculate_accuracies(y_true=y_test, y_pred=y_pred_test)\n",
    "\n",
    "#Get report for model\n",
    "class_report(y_train, y_pred_train, train_acc, dataset='Training')\n",
    "class_report(y_test, y_pred_test, test_acc, dataset='Test')"
   ]
  }
 ],
 "metadata": {
  "kernelspec": {
   "display_name": "Python 3",
   "language": "python",
   "name": "python3"
  },
  "language_info": {
   "codemirror_mode": {
    "name": "ipython",
    "version": 3
   },
   "file_extension": ".py",
   "mimetype": "text/x-python",
   "name": "python",
   "nbconvert_exporter": "python",
   "pygments_lexer": "ipython3",
   "version": "3.6.2"
  }
 },
 "nbformat": 4,
 "nbformat_minor": 2
}
