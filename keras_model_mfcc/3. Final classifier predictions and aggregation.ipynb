{
 "cells": [
  {
   "cell_type": "code",
   "execution_count": 6,
   "metadata": {},
   "outputs": [
    {
     "data": {
      "text/html": [
       "<style>.container { width:100% !important; }</style>"
      ],
      "text/plain": [
       "<IPython.core.display.HTML object>"
      ]
     },
     "metadata": {},
     "output_type": "display_data"
    }
   ],
   "source": [
    "from IPython.core.display import display, HTML\n",
    "display(HTML(\"<style>.container { width:100% !important; }</style>\"))"
   ]
  },
  {
   "cell_type": "code",
   "execution_count": 7,
   "metadata": {},
   "outputs": [],
   "source": [
    "import keras\n",
    "from keras.models import Sequential\n",
    "from keras.layers import Dense, Dropout, Flatten\n",
    "from keras.layers import Conv2D, MaxPooling2D\n",
    "from keras import backend as K\n",
    "import pandas as pd\n",
    "import numpy as np\n",
    "from numpy import linalg as LA\n",
    "from util_functions import process_files, decide_class, get_class_label, plot_confusion_matrix"
   ]
  },
  {
   "cell_type": "code",
   "execution_count": 8,
   "metadata": {},
   "outputs": [],
   "source": [
    "# PREDICTIONS FROM SAVED MODEL\n",
    "from keras.models import model_from_json\n",
    "\n",
    "model_name = 'sound_classifier'\n",
    "\n",
    "# load json and create model\n",
    "json_file = open('saved_models/' + model_name + '.json', 'r')\n",
    "loaded_model_json = json_file.read()\n",
    "json_file.close()\n",
    "loaded_model = model_from_json(loaded_model_json)\n",
    "\n",
    "# load weights into new model\n",
    "loaded_model.load_weights('saved_models/' + model_name + '.h5')"
   ]
  },
  {
   "cell_type": "code",
   "execution_count": 9,
   "metadata": {},
   "outputs": [],
   "source": [
    "# load the test data\n",
    "x_test, y_test, f_test = process_files(dataset='test', features=['mfccs', 'mfcc_deltas'], shape='stacked')\n",
    "\n",
    "# input image dimensions\n",
    "input_d = x_test.shape[1] #Depth\n",
    "input_h = x_test.shape[2] #Height\n",
    "input_w = x_test.shape[3] #Width\n",
    "\n",
    "#normalise\n",
    "x_test = x_test - x_test.mean()\n",
    "x_test = x_test/LA.norm(x_test)\n",
    "\n",
    "#Reshaping to feed to network\n",
    "x_test = x_test.reshape(x_test.shape[0], input_h*input_w*input_d)\n",
    "# y_test = y_test.reshape(x_test.shape[0], 1)\n",
    "\n",
    "#Reshaping to feed to network in the same shape as it was trained\n",
    "x_test = x_test.reshape(x_test.shape[0], input_h*input_w*input_d)\n",
    "\n",
    "# create predictions and select class from one-hot encoding\n",
    "scores = loaded_model.predict(x_test)\n",
    "classes = [np.argmax(s) for s in scores]\n",
    "\n",
    "#Combine in a single dataframe\n",
    "test_df = pd.DataFrame({'file_id': f_test,\n",
    "                        'prediction': classes,\n",
    "                        'ground_truth': y_test\n",
    "                        })  \n",
    "\n",
    "test_df = test_df.groupby(['file_id', 'ground_truth'], as_index=False)['prediction'].mean()\n",
    "test_df['file_prediction'] = test_df.apply(lambda row: decide_class(row['prediction']), axis=1)"
   ]
  },
  {
   "cell_type": "code",
   "execution_count": 10,
   "metadata": {
    "scrolled": false
   },
   "outputs": [
    {
     "name": "stdout",
     "output_type": "stream",
     "text": [
      "Classification Report\n",
      "\n",
      "             precision    recall  f1-score   support\n",
      "\n",
      "        cat       0.81      0.94      0.87        49\n",
      "        dog       0.88      0.67      0.76        33\n",
      "\n",
      "avg / total       0.84      0.83      0.82        82\n",
      "\n",
      "Accuracy Score\n",
      "\n",
      "0.8292682926829268\n"
     ]
    },
    {
     "data": {
      "image/png": "[encoded data removed]",
      "text/plain": [
       "<matplotlib.figure.Figure at 0x7f745746eb00>"
      ]
     },
     "metadata": {},
     "output_type": "display_data"
    }
   ],
   "source": [
    "from sklearn.metrics import classification_report\n",
    "from sklearn.metrics import confusion_matrix\n",
    "from sklearn.metrics import accuracy_score\n",
    "\n",
    "ground_truth = test_df['ground_truth'].tolist()\n",
    "predictions = test_df['file_prediction'].tolist()\n",
    "\n",
    "ground_truth_labels = [get_class_label(g) for g in ground_truth]\n",
    "predictions_labels = [get_class_label(p) for p in predictions]\n",
    "target_names = ['cat', 'dog']\n",
    "\n",
    "#RESULTS:\n",
    "print('Classification Report\\n')\n",
    "print(classification_report(ground_truth, predictions, target_names=target_names))\n",
    "\n",
    "print('Accuracy Score\\n')\n",
    "print(accuracy_score(ground_truth, predictions))\n",
    "\n",
    "confusion_matrix = confusion_matrix(ground_truth, predictions)\n",
    "plot_confusion_matrix(confusion_matrix, target_names=target_names)"
   ]
  },
  {
   "cell_type": "code",
   "execution_count": null,
   "metadata": {},
   "outputs": [],
   "source": []
  }
 ],
 "metadata": {
  "kernelspec": {
   "display_name": "Python 3",
   "language": "python",
   "name": "python3"
  },
  "language_info": {
   "codemirror_mode": {
    "name": "ipython",
    "version": 3
   },
   "file_extension": ".py",
   "mimetype": "text/x-python",
   "name": "python",
   "nbconvert_exporter": "python",
   "pygments_lexer": "ipython3",
   "version": "3.6.2"
  }
 },
 "nbformat": 4,
 "nbformat_minor": 2
}
